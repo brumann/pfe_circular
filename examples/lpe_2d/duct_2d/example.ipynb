{
 "cells": [
  {
   "cell_type": "code",
   "execution_count": 1,
   "metadata": {},
   "outputs": [
    {
     "name": "stdout",
     "output_type": "stream",
     "text": [
      "Opening mesh duct.msh\n",
      "Reading 46957 nodes\n",
      "Reading elements...\n",
      "* 500 elements Line 3\n",
      "* 23228 elements Triangle 6\n",
      "Reading groups...\n",
      "* group 0: 23228 elements\n",
      "* group 1: 200 elements\n",
      "* group 2: 50 elements\n",
      "* group 3: 200 elements\n",
      "* group 4: 50 elements\n",
      "\n",
      "Allocating fields...\n",
      "* Field phi: 46957 DOFs\n",
      "Total: 46957 DOFs\n",
      "\n",
      "Building model...\n",
      "* Group LPE\n",
      "* Group Velocity\n",
      "* Group Wall\n",
      "* Group Impedance\n",
      "Time: 3.0279s\n",
      "Global system: 46957 DOFs, 536245 non-zero entries\n",
      "\n",
      "Solving model...\n",
      "Time: 1.3809s\n"
     ]
    }
   ],
   "source": [
    "import numpy as np\n",
    "from pfe.mesh import Mesh\n",
    "from pfe.constant import Constant\n",
    "from pfe.interpolation import Lagrange2\n",
    "from pfe import Model\n",
    "from pfe.models.lpe_2d import LPE, Impedance, Wall, Velocity\n",
    "\n",
    "mesh = Mesh('duct.msh')\n",
    "\n",
    "model = Model()\n",
    "\n",
    "model.parameters['omega'] = Constant(2*np.pi*2)\n",
    "model.parameters['rho0'] = Constant(1.0)\n",
    "model.parameters['c0'] = Constant(1.0)\n",
    "model.parameters['u0'] = Constant(0.0)  #Lagrange2(mesh, lambda x: x[0]*10)\n",
    "model.parameters['v0'] = Constant(0.0) #Lagrange2(mesh, lambda x: x[1]*20)\n",
    "\n",
    "model.fields['phi'] = Lagrange2(mesh)\n",
    "\n",
    "Z = Constant(1.0)\n",
    "V = Constant(1.0)\n",
    "model.terms.append(LPE(mesh.group(0)))\n",
    "model.terms.append(Velocity(mesh.group(4), V))\n",
    "model.terms.append(Wall(mesh.group([1, 3])))\n",
    "model.terms.append(Impedance(mesh.group(2), Z))\n",
    "\n",
    "model.declare_fields()\n",
    "model.build()\n",
    "model.solve()"
   ]
  },
  {
   "cell_type": "code",
   "execution_count": 2,
   "metadata": {},
   "outputs": [
    {
     "data": {
      "image/png": "[encoded data removed]",
      "text/plain": [
       "<Figure size 432x288 with 1 Axes>"
      ]
     },
     "metadata": {
      "needs_background": "light"
     },
     "output_type": "display_data"
    }
   ],
   "source": [
    "import matplotlib.pyplot as plt\n",
    "\n",
    "model.fields['phi'].plot(model.solution)\n",
    "plt.xlabel(\"$x$\")\n",
    "plt.ylabel(\"$y$\");"
   ]
  },
  {
   "cell_type": "code",
   "execution_count": null,
   "metadata": {},
   "outputs": [],
   "source": []
  }
 ],
 "metadata": {
  "kernelspec": {
   "display_name": "Python 3",
   "language": "python",
   "name": "python3"
  },
  "language_info": {
   "codemirror_mode": {
    "name": "ipython",
    "version": 3
   },
   "file_extension": ".py",
   "mimetype": "text/x-python",
   "name": "python",
   "nbconvert_exporter": "python",
   "pygments_lexer": "ipython3",
   "version": "3.8.6"
  }
 },
 "nbformat": 4,
 "nbformat_minor": 4
}
